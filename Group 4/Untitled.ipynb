{
 "cells": [
  {
   "cell_type": "code",
   "execution_count": 129,
   "metadata": {},
   "outputs": [],
   "source": [
    "import pandas as pd\n",
    "import numpy as np\n",
    "import os\n",
    "import openpyxl"
   ]
  },
  {
   "cell_type": "code",
   "execution_count": 77,
   "metadata": {},
   "outputs": [
    {
     "data": {
      "text/plain": [
       "'C:\\\\Users\\\\Sehaj\\\\Math 1500\\\\Group 4'"
      ]
     },
     "execution_count": 77,
     "metadata": {},
     "output_type": "execute_result"
    }
   ],
   "source": [
    "os.getcwd()"
   ]
  },
  {
   "cell_type": "code",
   "execution_count": 133,
   "metadata": {},
   "outputs": [],
   "source": [
    "total_files = 7"
   ]
  },
  {
   "cell_type": "code",
   "execution_count": 135,
   "metadata": {},
   "outputs": [
    {
     "data": {
      "text/plain": [
       "['term test 1.csv',\n",
       " 'term test 2.csv',\n",
       " 'term test 3.csv',\n",
       " 'term test 4.csv',\n",
       " 'term test 5.csv',\n",
       " 'term test 6.csv',\n",
       " 'term test 7.csv']"
      ]
     },
     "execution_count": 135,
     "metadata": {},
     "output_type": "execute_result"
    }
   ],
   "source": [
    "file_names = [f\"term test {str(i)}.csv\" for i in range(1,8)]\n",
    "file_names"
   ]
  },
  {
   "cell_type": "code",
   "execution_count": 137,
   "metadata": {},
   "outputs": [],
   "source": [
    "sections = ['B15']"
   ]
  },
  {
   "cell_type": "code",
   "execution_count": 138,
   "metadata": {},
   "outputs": [],
   "source": [
    "def remove_unwanted_cols(file_names):\n",
    "    list_of_dfs = []\n",
    "    for file_name in file_names:\n",
    "        df = pd.read_csv(file_name)\n",
    "        remove_cols = ['Crowdmark ID', 'Score URL', 'MC-total', 'Total', 'Penalty','Custom Penalty', 'Submitted At', 'State']\n",
    "        # get the question columns\n",
    "        q_cols = [col for col in df.columns if col[0] == 'Q']\n",
    "        # include the question columns in the remove_cols\n",
    "        remove_cols.extend(q_cols)\n",
    "        # remove the unwanted columns\n",
    "        df.drop(remove_cols, axis = 1, inplace=True)\n",
    "        # append the dataframe containing the required columns to the list of dataframes\n",
    "        list_of_dfs.append(df)\n",
    "    return list_of_dfs"
   ]
  },
  {
   "cell_type": "code",
   "execution_count": 139,
   "metadata": {},
   "outputs": [],
   "source": [
    "def section_only_results(list_of_dfs, section):\n",
    "    clean_dfs = []\n",
    "    for index, df in enumerate(list_of_dfs):\n",
    "        clean_df = df[df['Section'] == section]\n",
    "        num_entries = clean_df.shape[0]\n",
    "        \n",
    "        indices = [i for i in range(1,num_entries+1)]\n",
    "        clean_df.index = indices\n",
    "        \n",
    "        # rename columns\n",
    "        clean_df.rename(columns = {'Student ID Number':'Student ID ', 'Total After Penalty':f'Term Test {index +1}'}, inplace = True)\n",
    "        \n",
    "        clean_dfs.append(clean_df)\n",
    "    return clean_dfs"
   ]
  },
  {
   "cell_type": "code",
   "execution_count": 140,
   "metadata": {},
   "outputs": [],
   "source": [
    "def get_final_dataframe(clean_dfs):\n",
    "    final_df = clean_dfs[0]\n",
    "    for i in range(1,len(clean_dfs)):\n",
    "        df = clean_dfs[i]        \n",
    "        final_df[f'Term Test {i+1}'] = df[f'Term Test {i+1}']\n",
    "    return final_df"
   ]
  },
  {
   "cell_type": "code",
   "execution_count": 141,
   "metadata": {},
   "outputs": [],
   "source": [
    "def fill_nans(final_df):\n",
    "    for col in final_df.columns:\n",
    "        final_df[col].fillna(\"M\", inplace = True)\n",
    "    return final_df"
   ]
  },
  {
   "cell_type": "code",
   "execution_count": 142,
   "metadata": {},
   "outputs": [],
   "source": [
    "def generate_excel(file_names, section):\n",
    "    xls_file = f'1500 {section}.xlsx'\n",
    "    list_of_dfs = remove_unwanted_cols(file_names)\n",
    "    clean_dfs = section_only_results(list_of_dfs, section)\n",
    "    final_df = get_final_dataframe(clean_dfs)\n",
    "    final_df = fill_nans(final_df)\n",
    "    final_df.to_excel(xls_file)"
   ]
  },
  {
   "cell_type": "code",
   "execution_count": 136,
   "metadata": {},
   "outputs": [],
   "source": [
    "def main(file_names, sections):\n",
    "    for section in sections:\n",
    "        generate_excel(file_names, section)    "
   ]
  },
  {
   "cell_type": "code",
   "execution_count": null,
   "metadata": {},
   "outputs": [],
   "source": []
  }
 ],
 "metadata": {
  "kernelspec": {
   "display_name": "py37-gpu",
   "language": "python",
   "name": "py37-gpu"
  },
  "language_info": {
   "codemirror_mode": {
    "name": "ipython",
    "version": 3
   },
   "file_extension": ".py",
   "mimetype": "text/x-python",
   "name": "python",
   "nbconvert_exporter": "python",
   "pygments_lexer": "ipython3",
   "version": "3.7.1"
  }
 },
 "nbformat": 4,
 "nbformat_minor": 4
}
